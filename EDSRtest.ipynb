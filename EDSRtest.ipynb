{
  "nbformat": 4,
  "nbformat_minor": 0,
  "metadata": {
    "colab": {
      "provenance": [],
      "gpuType": "T4"
    },
    "kernelspec": {
      "name": "python3",
      "display_name": "Python 3"
    },
    "language_info": {
      "name": "python"
    },
    "accelerator": "GPU"
  },
  "cells": [
    {
      "cell_type": "code",
      "source": [
        "from google.colab import drive\n",
        "\n",
        "# Mount Google Drive\n",
        "drive.mount('/content/drive')"
      ],
      "metadata": {
        "id": "9tk8mbQLPQXz"
      },
      "execution_count": null,
      "outputs": []
    },
    {
      "cell_type": "code",
      "source": [
        "# Specify the directory path in Google Drive\n",
        "makeReposit = \"/content/drive/MyDrive/EDSR\"\n",
        "\n",
        "# Create the directory if it doesn't exist\n",
        "!mkdir -p \"$makeReposit/\"\n",
        "\n",
        "# Change the current working directory to the specified path\n",
        "%cd \"$makeReposit/\"\n",
        "\n",
        "# Clone the repository using git\n",
        "!git clone https://github.com/thstkdgus35/EDSR-PyTorch\n",
        "# %cd EDSR-PyTorch"
      ],
      "metadata": {
        "id": "Ojjz0IYAPbp9"
      },
      "execution_count": null,
      "outputs": []
    },
    {
      "cell_type": "code",
      "source": [
        "%cd /content/drive/MyDrive/EDSR/EDSR-PyTorch/src\n",
        "!sh demo.sh"
      ],
      "metadata": {
        "id": "hUjZPOmKY3ye"
      },
      "execution_count": null,
      "outputs": []
    },
    {
      "cell_type": "markdown",
      "source": [],
      "metadata": {
        "id": "nHJt9Uu6AWsq"
      }
    }
  ]
}